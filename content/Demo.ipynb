{
 "cells": [
  {
   "cell_type": "markdown",
   "id": "ede00246",
   "metadata": {},
   "source": [
    "# MeetEval meeting recognition visualization\n",
    "\n",
    "This notebook contains:\n",
    "- [Example: LibriCSS](#Example:-LibriCSS): An example transcription from the LibriCSS dataset \n",
    "- [Toy example](#Toy-Example): A toy example where you can edit the transcripts and look at how the visualization displays it"
   ]
  },
  {
   "cell_type": "code",
   "execution_count": null,
   "id": "71b9af7a",
   "metadata": {},
   "outputs": [],
   "source": [
    "# Install dependencies (required in the JupyterLite demo)\n",
    "%pip install cached_property\n",
    "%pip install kaldialign\n",
    "%pip install meeteval\n",
    "%pip install simplejson"
   ]
  },
  {
   "cell_type": "markdown",
   "id": "56ad37d2",
   "metadata": {
    "tags": []
   },
   "source": [
    "## Example: LibriCSS"
   ]
  },
  {
   "cell_type": "markdown",
   "id": "7a0bb911-2ada-40ff-8f71-2ca3c59de113",
   "metadata": {
    "tags": []
   },
   "source": [
    "### Display in the notebook\n",
    "An `AlignmentVisualization` object can be displayed directly in a Jupyter notebook.\n",
    "\n",
    "If you encounter performance issues, consider using the standalone visualization."
   ]
  },
  {
   "cell_type": "code",
   "execution_count": null,
   "id": "80a6d7fc",
   "metadata": {},
   "outputs": [],
   "source": [
    "from meeteval.io import STM\n",
    "from meeteval.viz.visualize import AlignmentVisualization\n",
    "\n",
    "# Load data\n",
    "key = 'session0_OV40'  # An example of a more-or-less realistic meeting scenario\n",
    "# key = 'session0_0L'    # An example with no overlap and no diarization errors \n",
    "ref = STM.load('libricss/ref.stm').filter(lambda l: l.filename == key)\n",
    "hyp = STM.load('libricss/hyp.stm').filter(lambda l: l.filename == key)\n",
    "\n",
    "# Visualization\n",
    "AlignmentVisualization(ref, hyp)"
   ]
  },
  {
   "cell_type": "markdown",
   "id": "a419a16a-b7c5-46d6-bb5a-685a00f3a0de",
   "metadata": {
    "tags": []
   },
   "source": [
    "### Standalone HTML visualization\n",
    "You can dump a standalone HTML version of the visualizaiton with `AlignmentVisualization.dump`.\n",
    "\n",
    "You'll find a `\"viz.html`\" file in the file explorer on the right after exporting by executing the cell below. You double-click it to open it in the Jupyter intervace or  download and open it in any browser."
   ]
  },
  {
   "cell_type": "code",
   "execution_count": null,
   "id": "1a445759",
   "metadata": {},
   "outputs": [],
   "source": [
    "AlignmentVisualization(ref, hyp).dump('viz.html')"
   ]
  },
  {
   "cell_type": "markdown",
   "id": "31d0256c-cf05-49a8-90f9-f9564c2794a3",
   "metadata": {},
   "source": [
    "# Toy Example\n",
    "MeetEval uses the [STM](https://github.com/usnistgov/SCTK/blob/master/doc/infmts.htm#L75) file format.\n",
    "\n",
    "You can edit the files in the cells below"
   ]
  },
  {
   "cell_type": "code",
   "execution_count": null,
   "id": "bf9fbe8d-d45a-46da-8ca2-6118e48ae8ce",
   "metadata": {},
   "outputs": [],
   "source": [
    "%%writefile toy_ref.stm\n",
    ";; STM file format: A list of segments\n",
    ";; <filename> <channel(unused)> <speaker> <begin-time> <end-time> <transcript>\n",
    "X 1 A 0 1 THE QUICK BROWN FOX\n",
    "X 1 B 1 2 JUMPS OVER\n",
    "X 1 A 2 3 THE LAZY DOG\n",
    "X 1 C 3 4 AND RUNS AWAY"
   ]
  },
  {
   "cell_type": "code",
   "execution_count": null,
   "id": "28356644-d8de-4a87-9ee1-0425febc3d09",
   "metadata": {},
   "outputs": [],
   "source": [
    "%%writefile toy_hyp.stm\n",
    ";; STM file format: A list of segments\n",
    ";; <filename> <channel(unused)> <speaker> <begin-time> <end-time> <transcript>\n",
    "X 1 0 0 1 THE KWICK BROWN FOX\n",
    "X 1 1 1 2 JUMPS OVER\n",
    "X 1 0 2 3 THE LAZY DOG\n",
    ";; Speaker confusion\n",
    "X 1 0 3 4 AND RUNS AWAY"
   ]
  },
  {
   "cell_type": "code",
   "execution_count": null,
   "id": "27df88bd-935f-46ed-84f0-aafdec9101fc",
   "metadata": {},
   "outputs": [],
   "source": [
    "from meeteval.io import STM\n",
    "from meeteval.viz.visualize import AlignmentVisualization\n",
    "AlignmentVisualization(STM.load('toy_ref.stm'), STM.load('toy_hyp.stm'), num_minimaps=1)"
   ]
  },
  {
   "cell_type": "code",
   "execution_count": null,
   "id": "5a6ab29d-07bd-48bf-be51-a6792d1bee5f",
   "metadata": {},
   "outputs": [],
   "source": []
  }
 ],
 "metadata": {
  "kernelspec": {
   "display_name": "Python 3 (ipykernel)",
   "language": "python",
   "name": "python3"
  },
  "language_info": {
   "codemirror_mode": {
    "name": "ipython",
    "version": 3
   },
   "file_extension": ".py",
   "mimetype": "text/x-python",
   "name": "python",
   "nbconvert_exporter": "python",
   "pygments_lexer": "ipython3",
   "version": "3.10.9"
  }
 },
 "nbformat": 4,
 "nbformat_minor": 5
}
