{
 "cells": [
  {
   "cell_type": "markdown",
   "id": "ede00246",
   "metadata": {},
   "source": [
    "# MeetEval meeting recognition visualization\n",
    "\n",
    "This notebook contains:\n",
    "- [Example: LibriCSS](#Example:-LibriCSS): An example transcription from the LibriCSS dataset \n",
    "- [Toy example](#Toy-Example): A toy example where you can edit the transcripts and look at how the visualization displays it"
   ]
  },
  {
   "cell_type": "code",
   "execution_count": null,
   "id": "71b9af7a",
   "metadata": {},
   "outputs": [],
   "source": [
    "# Install dependencies (required in the JupyterLite demo)\n",
    "%pip install cached_property\n",
    "%pip install kaldialign\n",
    "%pip install meeteval\n",
    "%pip install simplejson"
   ]
  },
  {
   "cell_type": "markdown",
   "id": "56ad37d2",
   "metadata": {
    "tags": []
   },
   "source": [
    "## Example: LibriCSS"
   ]
  },
  {
   "cell_type": "markdown",
   "id": "7a0bb911-2ada-40ff-8f71-2ca3c59de113",
   "metadata": {
    "tags": []
   },
   "source": [
    "### Display in the notebook\n",
    "An `AlignmentVisualization` object can be displayed directly in a Jupyter notebook.\n",
    "\n",
    "If you encounter performance issues, consider using the standalone visualization."
   ]
  },
  {
   "cell_type": "code",
   "execution_count": null,
   "id": "80a6d7fc",
   "metadata": {},
   "outputs": [],
   "source": [
    "import meeteval\n",
    "\n",
    "# Load data\n",
    "key = 'session0_OV40'  # An example of a more-or-less realistic meeting scenario\n",
    "# key = 'session0_0L'    # An example with no overlap and no diarization errors \n",
    "ref = meeteval.io.asseglst(meeteval.io.load('libricss/ref.stm')).groupby('session_id')[key]\n",
    "hyp = meeteval.io.asseglst(meeteval.io.load('libricss/hyp.stm')).groupby('session_id')[key]\n",
    "\n",
    "# Visualization\n",
    "meeteval.viz.AlignmentVisualization(ref, hyp)"
   ]
  },
  {
   "cell_type": "markdown",
   "id": "a419a16a-b7c5-46d6-bb5a-685a00f3a0de",
   "metadata": {
    "tags": []
   },
   "source": [
    "### Standalone HTML visualization\n",
    "You can dump a standalone HTML version of the visualizaiton with `AlignmentVisualization.dump`.\n",
    "\n",
    "You'll find a `\"viz.html`\" file in the file explorer on the left after exporting by executing the cell below. You can double-click it to open it in the Jupyter intervace or  download and open it in any browser."
   ]
  },
  {
   "cell_type": "code",
   "execution_count": null,
   "id": "1a445759",
   "metadata": {},
   "outputs": [],
   "source": [
    "meeteval.viz.AlignmentVisualization(ref, hyp).dump('viz.html')"
   ]
  },
  {
   "cell_type": "markdown",
   "id": "31d0256c-cf05-49a8-90f9-f9564c2794a3",
   "metadata": {},
   "source": [
    "# Toy Example\n",
    "MeetEval primarily uses the SegLST format, but also works with [STM](https://github.com/usnistgov/SCTK/blob/master/doc/infmts.htm#L75) and others.\n",
    "\n",
    "You can edit the files in the cells below"
   ]
  },
  {
   "cell_type": "code",
   "execution_count": null,
   "id": "bf9fbe8d-d45a-46da-8ca2-6118e48ae8ce",
   "metadata": {},
   "outputs": [],
   "source": [
    "ref = meeteval.io.SegLST([\n",
    "    {\n",
    "        \"session_id\": \"session-1\",\n",
    "        \"start_time\": 0,\n",
    "        \"end_time\": 1,\n",
    "        \"words\": \"THE QUICK BROWN FOX\",\n",
    "        \"speaker\": \"A\"\n",
    "    },\n",
    "    {\n",
    "        \"session_id\": \"session-1\",\n",
    "        \"start_time\": 1,\n",
    "        \"end_time\": 2,\n",
    "        \"words\": \"JUMPS OVER\",\n",
    "        \"speaker\": \"B\"\n",
    "    },\n",
    "    {\n",
    "        \"session_id\": \"session-1\",\n",
    "        \"start_time\": 2,\n",
    "        \"end_time\": 3,\n",
    "        \"words\": \"THE LAZY DOG\",\n",
    "        \"speaker\": \"A\"\n",
    "    },\n",
    "    {\n",
    "        \"session_id\": \"session-1\",\n",
    "        \"start_time\": 3,\n",
    "        \"end_time\": 4,\n",
    "        \"words\": \"AND RUNS AWAY\",\n",
    "        \"speaker\": \"C\"\n",
    "    }\n",
    "])"
   ]
  },
  {
   "cell_type": "code",
   "execution_count": null,
   "id": "28356644-d8de-4a87-9ee1-0425febc3d09",
   "metadata": {},
   "outputs": [],
   "source": [
    "hyp = meeteval.io.SegLST([\n",
    "    # Word errors\n",
    "    {\n",
    "        \"session_id\": \"session-1\",\n",
    "        \"start_time\": 0,\n",
    "        \"end_time\": 1,\n",
    "        \"words\": \"THE KWICK BROWN FOX\",\n",
    "        \"speaker\": 0\n",
    "    },\n",
    "    # Speaker confusion\n",
    "    {\n",
    "        \"session_id\": \"session-1\",\n",
    "        \"start_time\": 1,\n",
    "        \"end_time\": 2,\n",
    "        \"words\": \"JUMPS OVER\",\n",
    "        \"speaker\": 1\n",
    "    },\n",
    "    # Correct\n",
    "    {\n",
    "        \"session_id\": \"session-1\",\n",
    "        \"start_time\": 2,\n",
    "        \"end_time\": 3,\n",
    "        \"words\": \"THE LAZY DOG\",\n",
    "        \"speaker\": 0\n",
    "    },\n",
    "    # Temporal offset\n",
    "    {\n",
    "        \"session_id\": \"session-1\",\n",
    "        \"start_time\": 4,\n",
    "        \"end_time\": 5,\n",
    "        \"words\": \" AND RUNS AWAY\",\n",
    "        \"speaker\": 1\n",
    "    }\n",
    "])"
   ]
  },
  {
   "cell_type": "code",
   "execution_count": null,
   "id": "94144a29-a114-4962-8c36-7c570602a232",
   "metadata": {},
   "outputs": [],
   "source": [
    "meeteval.viz.AlignmentVisualization(ref, hyp, num_minimaps=1)"
   ]
  },
  {
   "cell_type": "code",
   "execution_count": null,
   "id": "5a6ab29d-07bd-48bf-be51-a6792d1bee5f",
   "metadata": {},
   "outputs": [],
   "source": []
  }
 ],
 "metadata": {
  "kernelspec": {
   "display_name": "Python 3 (ipykernel)",
   "language": "python",
   "name": "python3"
  },
  "language_info": {
   "codemirror_mode": {
    "name": "ipython",
    "version": 3
   },
   "file_extension": ".py",
   "mimetype": "text/x-python",
   "name": "python",
   "nbconvert_exporter": "python",
   "pygments_lexer": "ipython3",
   "version": "3.11.5"
  }
 },
 "nbformat": 4,
 "nbformat_minor": 5
}
