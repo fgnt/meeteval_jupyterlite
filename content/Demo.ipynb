{
 "cells": [
  {
   "cell_type": "markdown",
   "id": "ede00246",
   "metadata": {},
   "source": [
    "# MeetEval meeting recognition visualization\n",
    "\n",
    "TODO: description\n",
    "\n",
    "This template is populated with example reference and hypothesis `STM` files from the [Libri-CSS database."
   ]
  },
  {
   "cell_type": "code",
   "execution_count": null,
   "id": "71b9af7a",
   "metadata": {},
   "outputs": [],
   "source": [
    "# Install dependencies\n",
    "%pip install cached_property\n",
    "%pip install kaldialign\n",
    "%pip install meeteval"
   ]
  },
  {
   "cell_type": "code",
   "execution_count": null,
   "id": "da99b94c",
   "metadata": {},
   "outputs": [],
   "source": [
    "from meeteval.io import STM\n",
    "from meeteval.viz.visualize import AlignmentVisualization"
   ]
  },
  {
   "cell_type": "markdown",
   "id": "56ad37d2",
   "metadata": {
    "tags": []
   },
   "source": [
    "## Example: LibriCSS"
   ]
  },
  {
   "cell_type": "markdown",
   "id": "7a0bb911-2ada-40ff-8f71-2ca3c59de113",
   "metadata": {
    "tags": []
   },
   "source": [
    "### Display in the notebook\n",
    "An `AlignmentVisualization` object can be displayed directly in a Jupyter notebook.\n",
    "\n",
    "If you encounter performance issues, consider using the standalone visualization, which is for some reason more performant."
   ]
  },
  {
   "cell_type": "code",
   "execution_count": null,
   "id": "80a6d7fc",
   "metadata": {},
   "outputs": [],
   "source": [
    "key = 'session0_OV40'  # An example of a more-or-less realistic meeting scenario\n",
    "key = 'session0_0L'    # An example with no overlap and no diarization errors \n",
    "ref = STM.load('libricss/ref.stm').filter(lambda l: l.filename == key)\n",
    "hyp = STM.load('libricss/hyp.stm').filter(lambda l: l.filename == key)\n",
    "AlignmentVisualization(ref, hyp)"
   ]
  },
  {
   "cell_type": "markdown",
   "id": "a419a16a-b7c5-46d6-bb5a-685a00f3a0de",
   "metadata": {},
   "source": [
    "### Standalone HTML visualization\n",
    "You can dump a standalone HTML version of the visualizaiton with `AlignmentVisualization.dump`.\n",
    "\n",
    "You'll find a `\"viz.html`\" file in the file explorer on the right after exporting by executing the cell below. You double-click it to open it in the Jupyter intervace or  download and open it in any browser."
   ]
  },
  {
   "cell_type": "code",
   "execution_count": null,
   "id": "1a445759",
   "metadata": {},
   "outputs": [],
   "source": [
    "AlignmentVisualization(ref, hyp).dump('viz.html')"
   ]
  },
  {
   "cell_type": "code",
   "execution_count": null,
   "id": "e25293e6-95e3-4c8b-89d6-94109c271cd4",
   "metadata": {},
   "outputs": [],
   "source": []
  }
 ],
 "metadata": {
  "kernelspec": {
   "display_name": "Python 3 (ipykernel)",
   "language": "python",
   "name": "python3"
  },
  "language_info": {
   "codemirror_mode": {
    "name": "ipython",
    "version": 3
   },
   "file_extension": ".py",
   "mimetype": "text/x-python",
   "name": "python",
   "nbconvert_exporter": "python",
   "pygments_lexer": "ipython3",
   "version": "3.10.9"
  }
 },
 "nbformat": 4,
 "nbformat_minor": 5
}
